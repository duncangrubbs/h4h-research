{
 "cells": [
  {
   "cell_type": "markdown",
   "metadata": {},
   "source": [
    "## Ambulance Response Time Predictions\n",
    "\n",
    "### Using dataset provided by Marin Country Office of Public Health\n",
    "\n",
    "This project is meant to show the applications of Machine Learning in the context of medical emergencies.\n",
    "As AI and Machine Learning becomes more prevenlent, research into practical applications is becoming more and more important. This research is aimed to show the practicailty of Machine Learning in the context of almost anything, all you need is data.\n",
    "\n",
    "The structure of the project will follow a linear timeline moving from more simple data process and graphing to more advanced Machine Learning algorithms to predict response times based on various inputs.\n",
    "\n",
    "*Note: This data is not the best data, and this code is not the best code, this purpose of this notebook is to hightlight the apllicability of Machine Learning.*\n",
    "\n",
    "1. First, import tensor flow and data manipulation tools\n",
    "2. Then use pandas to read the cvs data and parse it into sections"
   ]
  },
  {
   "cell_type": "code",
   "execution_count": null,
   "metadata": {},
   "outputs": [],
   "source": [
    "import tensorflow as tf\n",
    "import pandas as pd\n",
    "from pandas import DataFrame\n",
    "import csv\n",
    "import numpy\n",
    "import math\n",
    "from matplotlib import pyplot as plt\n",
    "\n",
    "data = pd.read_csv('data.csv')\n",
    "data_rows = data.iterrows()"
   ]
  },
  {
   "cell_type": "code",
   "execution_count": null,
   "metadata": {},
   "outputs": [],
   "source": []
  },
  {
   "cell_type": "markdown",
   "metadata": {},
   "source": [
    "3. I then strip the data of bad data, eg. data that contains NaN or a non-valid number. *This is important because when training the NN, we want the data to be as clean as possible to give the NN the best possible prediction accuracy.*\n",
    "   \n",
    "4. I then use matplotlib to graph corrilations between certain data."
   ]
  },
  {
   "cell_type": "code",
   "execution_count": null,
   "metadata": {},
   "outputs": [],
   "source": [
    "plt.plot([0, 1], [t_avg, sa_avg])\n",
    "plt.show()"
   ]
  },
  {
   "cell_type": "code",
   "execution_count": null,
   "metadata": {},
   "outputs": [],
   "source": []
  }
 ],
 "metadata": {
  "kernelspec": {
   "display_name": "Python 3",
   "language": "python",
   "name": "python3"
  },
  "language_info": {
   "codemirror_mode": {
    "name": "ipython",
    "version": 3
   },
   "file_extension": ".py",
   "mimetype": "text/x-python",
   "name": "python",
   "nbconvert_exporter": "python",
   "pygments_lexer": "ipython3",
   "version": "3.6.0"
  }
 },
 "nbformat": 4,
 "nbformat_minor": 2
}
